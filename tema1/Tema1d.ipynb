{
 "cells": [
  {
   "metadata": {},
   "cell_type": "markdown",
   "source": "Stergerea liniilor cu valori nedeterminate",
   "id": "e25850814c1729af"
  },
  {
   "metadata": {
    "ExecuteTime": {
     "end_time": "2024-10-23T19:53:18.111544Z",
     "start_time": "2024-10-23T19:53:16.069049Z"
    }
   },
   "cell_type": "code",
   "source": [
    "import pandas as pd\n",
    "from scipy.stats import chi2_contingency\n",
    "\n",
    "xls = pd.read_excel(\"C:/Users/sargh/Desktop/AIgit/tema1/data.xlsx\", sheet_name=None)\n",
    "df_sheet1 = xls['Data']\n",
    "\n",
    "df_sheet1 = df_sheet1[df_sheet1['Race'] != 'SAV']\n",
    "df_sheet1 = df_sheet1[df_sheet1['Race'] != 'NR']\n",
    "df_sheet1 = df_sheet1[df_sheet1['Sexe'] != 'NSP']\n",
    "\n",
    "\n",
    "\n",
    "xls['Data'] = df_sheet1\n",
    "\n",
    "with pd.ExcelWriter(\"C:/Users/sargh/Desktop/AIgit/tema1/data.xlsx\", engine='openpyxl') as writer:\n",
    "    for sheet_name, df_sheet in xls.items():\n",
    "        df_sheet.to_excel(writer, sheet_name=sheet_name, index=False)"
   ],
   "id": "1db57991a331fc52",
   "outputs": [],
   "execution_count": 16
  },
  {
   "metadata": {},
   "cell_type": "markdown",
   "source": "Overwrite the values outside the scope, with the median for the breed",
   "id": "11629ef85abcf27a"
  },
  {
   "metadata": {
    "ExecuteTime": {
     "end_time": "2024-10-23T19:56:29.664827Z",
     "start_time": "2024-10-23T19:56:26.704995Z"
    }
   },
   "cell_type": "code",
   "source": [
    "xls = pd.read_excel(\"C:/Users/sargh/Desktop/AIgit/tema1/data.xlsx\", sheet_name=None)\n",
    "df_sheet1 = xls['Data']\n",
    "\n",
    "data_df = pd.read_excel(\"C:/Users/sargh/Desktop/AIgit/tema1/data.xlsx\")\n",
    "\n",
    "mean_dict_ext = df_sheet1[df_sheet1['Ext'] != 0].groupby('Race')['Ext'].mean().round().to_dict()\n",
    "mean_dict_obs = df_sheet1[df_sheet1['Obs'] != 0].groupby('Race')['Obs'].mean().round().to_dict()\n",
    "mean_dict_predOiseau = df_sheet1[df_sheet1['PredOiseau'] != 0].groupby('Race')['PredOiseau'].mean().round().to_dict()\n",
    "mean_dict_predMamm = df_sheet1[df_sheet1['PredMamm'] != 0].groupby('Race')['PredMamm'].mean().round().to_dict()\n",
    "\n",
    "for index, row in df_sheet1.iterrows():\n",
    "    if row['Ext'] == 0:\n",
    "        df_sheet1.at[index, 'Ext'] = mean_dict_ext.get(row['Race'], row['Ext'])\n",
    "    if row['Obs'] == 0:\n",
    "        df_sheet1.at[index, 'Obs'] = mean_dict_obs.get(row['Race'], row['Obs'])\n",
    "    if row['PredOiseau'] == 0:\n",
    "        df_sheet1.at[index, 'PredOiseau'] = mean_dict_predOiseau.get(row['Race'], row['PredOiseau'])\n",
    "    if row['PredMamm'] == 0:\n",
    "        df_sheet1.at[index, 'PredMamm'] = mean_dict_predMamm.get(row['Race'], row['PredMamm'])\n",
    "\n",
    "with pd.ExcelWriter(\"C:/Users/sargh/Desktop/AIgit/tema1/data.xlsx\", engine='openpyxl') as writer:\n",
    "    for sheet_name, df_sheet in xls.items():\n",
    "        df_sheet.to_excel(writer, sheet_name=sheet_name, index=False)\n"
   ],
   "id": "defa830ebb8651af",
   "outputs": [],
   "execution_count": 18
  },
  {
   "metadata": {},
   "cell_type": "markdown",
   "source": "Stergem coloana Abondance si Horrodetaur si Row.names",
   "id": "edc995488859a142"
  },
  {
   "metadata": {
    "ExecuteTime": {
     "end_time": "2024-10-23T20:03:31.844902Z",
     "start_time": "2024-10-23T20:03:28.992797Z"
    }
   },
   "cell_type": "code",
   "source": [
    "df = pd.read_excel(\"C:/Users/sargh/Desktop/AIgit/tema1/data.xlsx\")\n",
    "\n",
    "xls = pd.read_excel(\"C:/Users/sargh/Desktop/AIgit/tema1/data.xlsx\", sheet_name=None)\n",
    "df_sheet1 = xls['Data']\n",
    "\n",
    "if 'Abondance' in df.columns:\n",
    "    df_sheet1.drop(columns=['Abondance'], inplace=True)\n",
    "\n",
    "if 'Row.names' in df.columns:\n",
    "    df_sheet1.drop(columns=['Row.names'], inplace=True)\n",
    "    \n",
    "if 'Horodateur' in df.columns:\n",
    "    df_sheet1.drop(columns=['Horodateur'], inplace=True)\n",
    "    \n",
    "xls['Data'] = df_sheet1\n",
    "\n",
    "with pd.ExcelWriter(\"C:/Users/sargh/Desktop/AIgit/tema1/data.xlsx\", engine='openpyxl') as writer:\n",
    "    for sheet_name, df_sheet in xls.items():\n",
    "        df_sheet.to_excel(writer, sheet_name=sheet_name, index=False)"
   ],
   "id": "8e3191902815cc8f",
   "outputs": [],
   "execution_count": 21
  },
  {
   "metadata": {},
   "cell_type": "markdown",
   "source": "Adaugare atribut nou\n",
   "id": "88c15cb358d22a2e"
  },
  {
   "metadata": {
    "ExecuteTime": {
     "end_time": "2024-10-23T20:36:59.128717Z",
     "start_time": "2024-10-23T20:36:57.039910Z"
    }
   },
   "cell_type": "code",
   "source": [
    "xls = pd.read_excel(\"C:/Users/sargh/Desktop/AIgit/tema1/data.xlsx\", sheet_name=None)\n",
    "df_sheet1 = xls['Data']\n",
    "\n",
    "coat_breed_dict={\n",
    "    '1' : 'short',\n",
    "    '2' : 'medium',\n",
    "    '3' : 'short',\n",
    "    '4' : 'medium',\n",
    "    '5' : 'medium',\n",
    "    '6' : 'long',\n",
    "    '7' : 'long',\n",
    "    '8' : 'medium',\n",
    "    '9' : 'short',\n",
    "    '10' : 'hairless',\n",
    "    '11' : 'short',\n",
    "    '12' : 'medium',\n",
    "    '13' : 'unknown',\n",
    "}\n",
    "\n",
    "coat_dict={\n",
    "    'hairless' : 0,\n",
    "    'short' : 1,\n",
    "    'medium' : 2,\n",
    "    'long' : 3,\n",
    "    'unknown' : 4,\n",
    "}\n",
    "\n",
    "df_sheet1['Race'] = df_sheet1['Race'].astype(str)\n",
    "df_sheet1['Coat'] = df_sheet1['Race'].map(coat_breed_dict)\n",
    "\n",
    "df_sheet1['Coat'] = df_sheet1['Coat'].replace(coat_dict)\n",
    "\n",
    "xls['Data'] = df_sheet1\n",
    "\n",
    "with pd.ExcelWriter(\"C:/Users/sargh/Desktop/AIgit/tema1/data.xlsx\", engine='openpyxl') as writer:\n",
    "    for sheet_name, df_sheet in xls.items():\n",
    "        df_sheet.to_excel(writer, sheet_name=sheet_name, index=False)\n"
   ],
   "id": "103fbc0d35c70160",
   "outputs": [
    {
     "name": "stderr",
     "output_type": "stream",
     "text": [
      "C:\\Users\\sargh\\AppData\\Local\\Temp\\ipykernel_18288\\1278959050.py:31: FutureWarning: Downcasting behavior in `replace` is deprecated and will be removed in a future version. To retain the old behavior, explicitly call `result.infer_objects(copy=False)`. To opt-in to the future behavior, set `pd.set_option('future.no_silent_downcasting', True)`\n",
      "  df_sheet1['Coat'] = df_sheet1['Coat'].replace(coat_dict)\n"
     ]
    }
   ],
   "execution_count": 36
  },
  {
   "metadata": {},
   "cell_type": "markdown",
   "source": "Random forest pentru determinarea importantei atributelor in procesul de clasificare",
   "id": "c982ef67b2c640bf"
  },
  {
   "metadata": {
    "ExecuteTime": {
     "end_time": "2024-10-23T20:50:01.486116Z",
     "start_time": "2024-10-23T20:49:59.005667Z"
    }
   },
   "cell_type": "code",
   "source": [
    "from sklearn.ensemble import RandomForestClassifier\n",
    "from sklearn.model_selection import train_test_split\n",
    "from sklearn.preprocessing import LabelEncoder\n",
    "\n",
    "\n",
    "file_path = \"C:/Users/sargh/Desktop/AIgit/tema1/data.xlsx\"\n",
    "xls = pd.ExcelFile(file_path)\n",
    "\n",
    "data_df = pd.read_excel(xls, sheet_name='Data')\n",
    "code_df = pd.read_excel(xls, sheet_name='Code')\n",
    "label_encoder = LabelEncoder()\n",
    "data_df['Breed_encoded'] = label_encoder.fit_transform(data_df['Race'])\n",
    "\n",
    "X = data_df.drop(columns=['Race', 'Plus', 'Breed_encoded'])\n",
    "y = data_df['Breed_encoded']\n",
    "\n",
    "X_train, X_test, y_train, y_test = train_test_split(X, y, test_size=0.2, random_state=42)\n",
    "\n",
    "rf_classifier = RandomForestClassifier(n_estimators=100, random_state=42)\n",
    "rf_classifier.fit(X_train, y_train)\n",
    "\n",
    "feature_importances = rf_classifier.feature_importances_\n",
    "\n",
    "feature_importances_df = pd.DataFrame({\n",
    "    'Attribute': X.columns,\n",
    "    'Importance': feature_importances\n",
    "}).sort_values('Importance', ascending=False)\n",
    "\n",
    "print(feature_importances_df)\n",
    "\n",
    "low_importance_columns = feature_importances_df[feature_importances_df['Importance'] < 0.024]['Attribute']\n",
    "\n",
    "print(low_importance_columns)\n",
    "xls = pd.read_excel(\"C:/Users/sargh/Desktop/AIgit/tema1/data.xlsx\", sheet_name=None)\n",
    "df_sheet1 = xls['Data']\n",
    "df_sheet1 = df_sheet1.drop(columns=low_importance_columns)\n",
    "\n",
    "xls['Data'] = df_sheet1\n",
    "\n",
    "with pd.ExcelWriter(\"C:/Users/sargh/Desktop/AIgit/tema1/data.xlsx\", engine='openpyxl') as writer:\n",
    "    for sheet_name, df_sheet in xls.items():\n",
    "        df_sheet.to_excel(writer, sheet_name=sheet_name, index=False)"
   ],
   "id": "de5c792cff9ae4aa",
   "outputs": [
    {
     "name": "stdout",
     "output_type": "stream",
     "text": [
      "      Attribute  Importance\n",
      "22         Coat    0.249575\n",
      "20   PredOiseau    0.075919\n",
      "4           Ext    0.062462\n",
      "21     PredMamm    0.039938\n",
      "6         Calme    0.035745\n",
      "13    Solitaire    0.034576\n",
      "1        Nombre    0.034170\n",
      "5        Timide    0.032928\n",
      "19     Distrait    0.032727\n",
      "15     Dominant    0.032549\n",
      "7       Effrayé    0.032519\n",
      "12       Amical    0.032400\n",
      "0           Age    0.032173\n",
      "18   Prévisible    0.031420\n",
      "17     Impulsif    0.030773\n",
      "10  Perséverant    0.029713\n",
      "2      Logement    0.029109\n",
      "9      Vigilant    0.027495\n",
      "16     Agressif    0.026917\n",
      "14       Brutal    0.024966\n",
      "11   Affectueux    0.024360\n",
      "8   Intelligent    0.024204\n",
      "3          Zone    0.023364\n",
      "3    Zone\n",
      "Name: Attribute, dtype: object\n"
     ]
    }
   ],
   "execution_count": 43
  },
  {
   "metadata": {},
   "cell_type": "markdown",
   "source": "Tradus din franceza in engleza a coloaneai plus",
   "id": "36558138af6bc1aa"
  },
  {
   "metadata": {},
   "cell_type": "code",
   "outputs": [],
   "execution_count": null,
   "source": [
    "import pandas as pd\n",
    "from deep_translator import GoogleTranslator\n",
    "\n",
    "xls = pd.read_excel(\"C:/Users/sargh/Desktop/ai/AiTema1/data6.xlsx\", sheet_name=None)\n",
    "df_sheet1 = xls['Data']\n",
    "\n",
    "mean_dict_ext = df_sheet1[df_sheet1['Ext'] != 0].groupby('Race')['Ext'].mean().round().to_dict()\n",
    "mean_dict_obs = df_sheet1[df_sheet1['Obs'] != 0].groupby('Race')['Obs'].mean().round().to_dict()\n",
    "mean_dict_predOiseau = df_sheet1[df_sheet1['PredOiseau'] != 0].groupby('Race')['PredOiseau'].mean().round().to_dict()\n",
    "mean_dict_predMamm = df_sheet1[df_sheet1['PredMamm'] != 0].groupby('Race')['PredMamm'].mean().round().to_dict()\n",
    "\n",
    "for index, row in df_sheet1.iterrows():\n",
    "    if row['Ext'] == 0:\n",
    "        df_sheet1.at[index, 'Ext'] = mean_dict_ext.get(row['Race'], row['Ext'])\n",
    "    if row['Obs'] == 0:\n",
    "        df_sheet1.at[index, 'Obs'] = mean_dict_obs.get(row['Race'], row['Obs'])\n",
    "    if row['PredOiseau'] == 0:\n",
    "        df_sheet1.at[index, 'PredOiseau'] = mean_dict_predOiseau.get(row['Race'], row['PredOiseau'])\n",
    "    if row['PredMamm'] == 0:\n",
    "        df_sheet1.at[index, 'PredMamm'] = mean_dict_predMamm.get(row['Race'], row['PredMamm'])\n",
    "\n",
    "with pd.ExcelWriter('C:/Users/sargh/Desktop/ai/AiTema1/data6.xlsx', engine='openpyxl') as writer:\n",
    "    for sheet_name, df_sheet in xls.items():\n",
    "        df_sheet.to_excel(writer, sheet_name=sheet_name, index=False)\n",
    "\n",
    "\n",
    "def translate_text(text):\n",
    "    try:\n",
    "        return GoogleTranslator(source='fr', target='en').translate(text)\n",
    "    except Exception as e:\n",
    "        return text\n",
    "\n",
    "df_sheet1['Plus'] = df_sheet1['Plus'].map(lambda x: translate_text(str(x)) if isinstance(x, str) else x)\n",
    "\n",
    "with pd.ExcelWriter('C:/Users/sargh/Desktop/ai/AiTema1/data6.xlsx', engine='openpyxl') as writer:\n",
    "    for sheet_name, df_sheet in xls.items():\n",
    "        df_sheet.to_excel(writer, sheet_name=sheet_name, index=False)\n",
    "\n",
    "print(\"Fișierul a fost tradus din franceză în engleză și salvat.\")\n"
   ],
   "id": "1b5854230819f7e4"
  },
  {
   "metadata": {},
   "cell_type": "markdown",
   "source": "Traducerea atributelor",
   "id": "564940b387f08fb2"
  },
  {
   "metadata": {},
   "cell_type": "code",
   "outputs": [],
   "execution_count": null,
   "source": [
    "import pandas as pd\n",
    "from deep_translator import GoogleTranslator\n",
    "\n",
    "xls = pd.read_excel(\"C:/Users/sargh/Desktop/ai/AiTema1/data6.xlsx\", sheet_name=None)\n",
    "df_sheet1 = xls['Data']\n",
    "\n",
    "column_translation = {\n",
    "    'Horodateur': 'Timestamp',\n",
    "    'Sexe': 'Sex',\n",
    "    'Age': 'Age',\n",
    "    'Race': 'Breed',\n",
    "    'Nombre': 'Number',\n",
    "    'Logement': 'Housing',\n",
    "    'Zone': 'Zone',\n",
    "    'Ext': 'Ext',\n",
    "    'Obs': 'Obs',\n",
    "    'Timide': 'Shy',\n",
    "    'Calme': 'Calm',\n",
    "    'Effrayé': 'Scared',\n",
    "    'Intelligent': 'Intelligent',\n",
    "    'Vigilant': 'Vigilant',\n",
    "    'Perséverant': 'Perseverant',\n",
    "    'Affectueux': 'Affectionate',\n",
    "    'Amical': 'Friendly',\n",
    "    'Solitaire': 'Solitary',\n",
    "    'Brutal': 'Brutal',\n",
    "    'Dominant': 'Dominant',\n",
    "    'Agressif': 'Aggressive',\n",
    "    'Impulsif': 'Impulsive',\n",
    "    'Prévisible': 'Predictable',\n",
    "    'Distrait': 'Distracted',\n",
    "    'Abondance': 'Abundance',\n",
    "    'PredOiseau': 'PredatorBird',\n",
    "    'PredMamm': 'PredatorMammal',\n",
    "    'Plus': 'Plus'\n",
    "}\n",
    "\n",
    "df_sheet1.rename(columns=column_translation, inplace=True)\n",
    "\n",
    "with pd.ExcelWriter('C:/Users/sargh/Desktop/ai/AiTema1/data6.xlsx', engine='openpyxl') as writer:\n",
    "    for sheet_name, df_sheet in xls.items():\n",
    "        df_sheet.to_excel(writer, sheet_name=sheet_name, index=False)\n",
    "\n",
    "\n",
    "print(\"Numele coloanelor au fost traduse și fișierul a fost salvat.\")\n"
   ],
   "id": "108d572db6845d5"
  }
 ],
 "metadata": {
  "kernelspec": {
   "display_name": "Python 3",
   "language": "python",
   "name": "python3"
  },
  "language_info": {
   "codemirror_mode": {
    "name": "ipython",
    "version": 2
   },
   "file_extension": ".py",
   "mimetype": "text/x-python",
   "name": "python",
   "nbconvert_exporter": "python",
   "pygments_lexer": "ipython2",
   "version": "2.7.6"
  }
 },
 "nbformat": 4,
 "nbformat_minor": 5
}
